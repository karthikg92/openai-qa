{
 "cells": [
  {
   "cell_type": "code",
   "execution_count": 1,
   "id": "fc19d532",
   "metadata": {},
   "outputs": [
    {
     "name": "stderr",
     "output_type": "stream",
     "text": [
      "/usr/local/lib/python3.9/site-packages/tqdm/auto.py:22: TqdmWarning: IProgress not found. Please update jupyter and ipywidgets. See https://ipywidgets.readthedocs.io/en/stable/user_install.html\n",
      "  from .autonotebook import tqdm as notebook_tqdm\n",
      "None of PyTorch, TensorFlow >= 2.0, or Flax have been found. Models won't be available and only tokenizers, configuration and file/data utilities can be used.\n"
     ]
    }
   ],
   "source": [
    "import pandas as pd\n",
    "import openai\n",
    "import numpy as np\n",
    "import pickle\n",
    "from transformers import GPT2TokenizerFast\n",
    "\n",
    "tokenizer = GPT2TokenizerFast.from_pretrained(\"gpt2\")\n",
    "# ENTER API KEY\n",
    "openai.api_key = \"\"\n"
   ]
  },
  {
   "cell_type": "code",
   "execution_count": 2,
   "id": "9eac1cc3",
   "metadata": {},
   "outputs": [
    {
     "name": "stdout",
     "output_type": "stream",
     "text": [
      "1 rows in the data.\n",
      "726 tokens in the data\n"
     ]
    }
   ],
   "source": [
    "# We have hosted the processed dataset, so you can download it directly without having to recreate it.\n",
    "# This dataset has already been split into sections, one row for each section of the Wikipedia page.\n",
    "\n",
    "df = pd.read_csv('https://cdn.openai.com/API/examples/data/olympics_sections_text.csv')\n",
    "df = df.set_index([\"title\", \"heading\"])\n",
    "\n",
    "# Slice the dataset for faster and cheaper training\n",
    "df = df[:1]\n",
    "\n",
    "print(f\"{len(df)} rows in the data.\")\n",
    "print(f\"{sum(df.tokens)} tokens in the data\")"
   ]
  },
  {
   "cell_type": "code",
   "execution_count": 3,
   "id": "6d3a0d21",
   "metadata": {},
   "outputs": [],
   "source": [
    "header = []\n",
    "for i in range(df.shape[0]):\n",
    "    h = df.iloc[0].name[0] + \"\\n\" + df.iloc[0].name[1] + \"\\n\\n\"\n",
    "    header.append(h)\n",
    "    \n",
    "df['header'] = header\n",
    "df['context'] = df['header'] + df['content']    "
   ]
  },
  {
   "cell_type": "code",
   "execution_count": 4,
   "id": "fedfbf5c",
   "metadata": {},
   "outputs": [],
   "source": [
    "def get_questions(context):\n",
    "    try:\n",
    "        response = openai.Completion.create(\n",
    "#             engine='curie-search-query',\n",
    "            engine = 'text-davinci-002',\n",
    "            prompt=f\"Write five questions based on the text below\\n\\nText: {context}\\n\\nQuestions:\\n1.\",\n",
    "            temperature=0.5,\n",
    "            max_tokens=257, # originally 257\n",
    "            top_p=1,\n",
    "            frequency_penalty=0,\n",
    "            presence_penalty=0,\n",
    "            stop=[\"\\n\\n\"]\n",
    "        )\n",
    "        return \"1.\" + response['choices'][0]['text']\n",
    "    except:\n",
    "        return \"\"\n",
    "\n",
    "\n",
    "def get_answers(row):\n",
    "    try:\n",
    "        response = openai.Completion.create(\n",
    "            engine='text-davinci-002',\n",
    "            prompt=f\"\"\"Answer the questions based on the text below.\\n\\nText: {row.context}\\n\\nQuestions:\\n{row.new_questions}\\n\\nAnswers:\\n1.\"\"\",\n",
    "            temperature=0,\n",
    "            max_tokens=257,\n",
    "            top_p=1,\n",
    "            frequency_penalty=0,\n",
    "            presence_penalty=0,\n",
    "            stop=[\"\\n\\n\"]\n",
    "        )\n",
    "#         print(f\"\"\"Answer the questions based on the text below.\\n\\nText: {row.context}\\n\\nQuestions:\\n{row.new_questions}\\n\\nAnswers:\\n1.\"\"\")\n",
    "#         print(response['choices'][0]['text'])\n",
    "        return \"1.\" + response['choices'][0]['text']\n",
    "    except Exception as e:\n",
    "        print (e)\n",
    "        return \"\"\n"
   ]
  },
  {
   "cell_type": "code",
   "execution_count": 5,
   "id": "6492631d",
   "metadata": {},
   "outputs": [
    {
     "name": "stdout",
     "output_type": "stream",
     "text": [
      "Contents of the dataset used for fine-tuning:\n",
      "\n",
      "\n",
      "2020 Summer Olympics\n",
      "Summary\n",
      "\n",
      "The 2020 Summer Olympics (Japanese: 2020年夏季オリンピック, Hepburn: Nisen Nijū-nen Kaki Orinpikku), officially the Games of the XXXII Olympiad (第三十二回オリンピック競技大会, Dai Sanjūni-kai Orinpikku Kyōgi Taikai) and also known as Tokyo 2020 (東京2020, Tōkyō Nii Zero Nii Zero), was an international multi-sport event held from 23 July to 8 August 2021 in Tokyo, Japan, with some preliminary events that began on 21 July.\n",
      "Tokyo was selected as the host city during the 125th IOC Session in Buenos Aires, Argentina, on 7 September 2013. The Games were originally scheduled to take place from 24 July to 9 August 2020, but due to the global COVID-19 pandemic, on 24 March 2020, the event was postponed to 2021, the first such instance in the history of the Olympic Games (previous games had been cancelled but not rescheduled). However, the event retained the Tokyo 2020 branding for marketing purpose. It was largely held behind closed doors with no public spectators permitted due to the declaration of a state of emergency in the Greater Tokyo Area in response to the pandemic, the first and so far only Olympic Games to be held without official spectators. The Games were the most expensive ever, with total spending of over $20 billion.The 2020 Games were the fourth Olympic Games to be held in Japan, following the 1964 Summer Olympics (Tokyo), 1972 Winter Olympics (Sapporo), and 1998 Winter Olympics (Nagano). Tokyo became the first city in Asia to hold the Summer Games twice. The 2020 Games were the second of three consecutive Olympics to be held in East Asia, following the 2018 Winter Olympics in Pyeongchang, South Korea and preceding the 2022 Winter Olympics in Beijing, China. Due to the one-year postponement, Tokyo 2020 was the only Olympic Games to have been held in an odd-numbered year and the first Summer Olympics since the 1900 Games to be held in a non-leap year.\n",
      "New events were introduced in existing sports for 2020, including 3x3 basketball, freestyle BMX and mixed gender team events in a number of existing sports, as well as the return of madison cycling for men and an introduction of the same event for women. New IOC policies also allowed the host organizing committee to add new sports to the Olympic program for just one Games. The disciplines added by the Japanese Olympic Committee were baseball and softball, karate, sport climbing, surfing and skateboarding, the last four of which made their Olympic debuts, and the last three of which will remain on the Olympic program.The United States topped the medal count by both total golds (39) and total medals (113), with China finishing second by both respects (38 and 89). Host nation Japan finished third, setting a record for the most gold medals and total medals ever won by their delegation at an Olympic Games with 27 and 58. Great Britain finished fourth, with a total of 22 gold and 64 medals. The Russian delegation competing as the ROC finished fifth with 20 gold medals and third in the overall medal count, with 71 medals. Bermuda, the Philippines and Qatar won their first-ever Olympic gold medals. Burkina Faso, San Marino and Turkmenistan won their first-ever Olympic medals.\n"
     ]
    }
   ],
   "source": [
    "print(\"Contents of the dataset used for fine-tuning:\\n\\n\")\n",
    "print(df['context'][0])"
   ]
  },
  {
   "cell_type": "code",
   "execution_count": 6,
   "id": "679d15a4",
   "metadata": {},
   "outputs": [],
   "source": [
    "# avoiding re-training by default\n",
    "train = False\n",
    "\n",
    "\n",
    "def simple_dataset(df):\n",
    "    \"\"\"\n",
    "    Create a dataset for fine tuning the OpenAI model\n",
    "\n",
    "    Parameters\n",
    "    ----------\n",
    "    df: pd.DataFrame\n",
    "        The dataframe containing the question, answer and context pairs\n",
    "\n",
    "    Returns\n",
    "    -------\n",
    "    pd.DataFrame\n",
    "        The dataframe containing the prompts and completions, ready for fine-tuning\n",
    "    \"\"\"\n",
    "    rows = []\n",
    "    for i, row in df.iterrows():\n",
    "        for q, a in zip((row.questions).split('\\n'), (row.answers).split('\\n')):\n",
    "            if len(q) >10 and len(a) >10:\n",
    "                rows.append({\"prompt\": f\" {q[2:].strip()}\\n\\n###\\n\\n\", \"completion\":f\"{a[2:].strip()}###\"})\n",
    "\n",
    "    return pd.DataFrame(rows) \n",
    "\n",
    "\n",
    "if train:\n",
    "    # Loop n times to get more Q and A\n",
    "    df['new_questions']= df.context.apply(get_questions)\n",
    "    df['questions'] = df.new_questions\n",
    "    df['new_answers']= df.apply(get_answers, axis=1)\n",
    "    df['answers'] =  df.new_answers\n",
    "\n",
    "    for i in range(19):\n",
    "        df['new_questions']= df.context.apply(get_questions)\n",
    "        df['questions'] = df.questions + \"\\n\" + df.new_questions\n",
    "        df['new_answers']= df.apply(get_answers, axis=1)\n",
    "        df['answers'] = df.answers + \"\\n\" + df.new_answers\n",
    "\n",
    "    df.to_csv('custom_olympics_qa_firstpara.csv', index=False)\n",
    "    \n",
    "    # create the dataset in the appropriate format\n",
    "    ft = simple_dataset(df)\n",
    "    ft.to_json('qa.jsonl', orient='records', lines=True)"
   ]
  },
  {
   "cell_type": "code",
   "execution_count": 7,
   "id": "2ce57de5",
   "metadata": {},
   "outputs": [],
   "source": [
    "# read the saved questions and answeres\n",
    "df = pd.read_csv('custom_olympics_qa_firstpara.csv')"
   ]
  },
  {
   "cell_type": "code",
   "execution_count": 8,
   "id": "b31f2fa3",
   "metadata": {},
   "outputs": [],
   "source": [
    "# if interested, can print and examine the questions and answers that were generated\n",
    "\n",
    "# print(df['questions'][0])\n",
    "# print('------------')\n",
    "# print(df['answers'][0])"
   ]
  },
  {
   "cell_type": "code",
   "execution_count": null,
   "id": "9fcba623",
   "metadata": {},
   "outputs": [],
   "source": []
  },
  {
   "cell_type": "code",
   "execution_count": null,
   "id": "cc774cf1",
   "metadata": {},
   "outputs": [],
   "source": []
  },
  {
   "cell_type": "code",
   "execution_count": null,
   "id": "f1a6a65e",
   "metadata": {},
   "outputs": [],
   "source": []
  },
  {
   "cell_type": "code",
   "execution_count": null,
   "id": "71c683cd",
   "metadata": {},
   "outputs": [],
   "source": []
  },
  {
   "cell_type": "code",
   "execution_count": null,
   "id": "89a7f678",
   "metadata": {},
   "outputs": [],
   "source": []
  },
  {
   "cell_type": "code",
   "execution_count": null,
   "id": "e3276aea",
   "metadata": {},
   "outputs": [],
   "source": []
  },
  {
   "cell_type": "code",
   "execution_count": null,
   "id": "36795191",
   "metadata": {},
   "outputs": [],
   "source": []
  },
  {
   "cell_type": "code",
   "execution_count": null,
   "id": "d6189020",
   "metadata": {},
   "outputs": [],
   "source": []
  },
  {
   "cell_type": "code",
   "execution_count": null,
   "id": "4b857bda",
   "metadata": {},
   "outputs": [],
   "source": []
  },
  {
   "cell_type": "code",
   "execution_count": null,
   "id": "c8a78354",
   "metadata": {},
   "outputs": [],
   "source": []
  },
  {
   "cell_type": "code",
   "execution_count": null,
   "id": "a7fb3c70",
   "metadata": {},
   "outputs": [],
   "source": []
  },
  {
   "cell_type": "code",
   "execution_count": null,
   "id": "172ce857",
   "metadata": {},
   "outputs": [],
   "source": []
  },
  {
   "cell_type": "code",
   "execution_count": 9,
   "id": "d0376d65",
   "metadata": {},
   "outputs": [],
   "source": [
    "# easier to directly run this from the terminal for monitoring purposes\n",
    "\n",
    "# running from the notebook\n",
    "#!openai api fine_tunes.create -t \"qa.jsonl\" --batch_size 16 "
   ]
  },
  {
   "cell_type": "code",
   "execution_count": null,
   "id": "f2e90de5",
   "metadata": {},
   "outputs": [],
   "source": []
  },
  {
   "cell_type": "code",
   "execution_count": null,
   "id": "61223088",
   "metadata": {},
   "outputs": [],
   "source": []
  },
  {
   "cell_type": "code",
   "execution_count": 10,
   "id": "5d584833",
   "metadata": {},
   "outputs": [],
   "source": [
    "def count_tokens(text: str) -> int:\n",
    "    \"\"\"count the number of tokens in a string\"\"\"\n",
    "    return len(tokenizer.encode(text))\n",
    "\n",
    "COST_PER_COMPLETION = 0.02*1e-3"
   ]
  },
  {
   "cell_type": "code",
   "execution_count": null,
   "id": "ce4bfe36",
   "metadata": {},
   "outputs": [],
   "source": []
  },
  {
   "cell_type": "code",
   "execution_count": null,
   "id": "4ae4a2fe",
   "metadata": {},
   "outputs": [],
   "source": []
  },
  {
   "cell_type": "code",
   "execution_count": 11,
   "id": "74a6a4b0",
   "metadata": {},
   "outputs": [],
   "source": [
    "# Use the model\n",
    "\n",
    "# Enter the fine-tuned model id\n",
    "FINE_TUNED_MODEL = \"\"\n",
    "\n",
    "\n",
    "def use_model(query):\n",
    "    try:\n",
    "        \n",
    "        p = f\"\"\" {query}\\n\\n###\\n\\n\"\"\"\n",
    "        \n",
    "        response = openai.Completion.create(\n",
    "            engine=FINE_TUNED_MODEL,\n",
    "            prompt=p,\n",
    "            temperature=0,\n",
    "            max_tokens=257,\n",
    "            top_p=1,\n",
    "            frequency_penalty=0.9,\n",
    "            presence_penalty=0,\n",
    "            stop=[\"###\"]\n",
    "        )\n",
    "        \n",
    "        total_tokens = count_tokens(p) + count_tokens(response[\"choices\"][0][\"text\"].strip(\" \\n\"))\n",
    "#         print(f\"${total_tokens*COST_PER_COMPLETION:.5f} for answering prompt\")\n",
    "        \n",
    "        return response['choices'][0]['text']\n",
    "    except Exception as e:\n",
    "        print (e)\n",
    "        return \"\"\n",
    "\n"
   ]
  },
  {
   "cell_type": "code",
   "execution_count": null,
   "id": "0e545f66",
   "metadata": {},
   "outputs": [],
   "source": []
  },
  {
   "cell_type": "code",
   "execution_count": null,
   "id": "efe38dc5",
   "metadata": {},
   "outputs": [],
   "source": []
  },
  {
   "cell_type": "code",
   "execution_count": null,
   "id": "de5136ca",
   "metadata": {},
   "outputs": [],
   "source": []
  },
  {
   "cell_type": "code",
   "execution_count": 12,
   "id": "39134b73",
   "metadata": {},
   "outputs": [
    {
     "data": {
      "text/plain": [
       "'The United States won the most medals in the 2020 olympics.'"
      ]
     },
     "execution_count": 12,
     "metadata": {},
     "output_type": "execute_result"
    }
   ],
   "source": [
    "use_model(\"Which country won the most medals in the 2020 olympics?\")"
   ]
  },
  {
   "cell_type": "code",
   "execution_count": 13,
   "id": "0ff5abf9",
   "metadata": {},
   "outputs": [
    {
     "data": {
      "text/plain": [
       "'The most expensive olympic games were held in Tokyo in 2020.'"
      ]
     },
     "execution_count": 13,
     "metadata": {},
     "output_type": "execute_result"
    }
   ],
   "source": [
    "use_model(\"Where was the most expensive olympic games held?\")"
   ]
  },
  {
   "cell_type": "code",
   "execution_count": 14,
   "id": "6ca22ff8",
   "metadata": {},
   "outputs": [
    {
     "data": {
      "text/plain": [
       "'Tokyo is the only city in Asia to have hosted the Olympics more than once.'"
      ]
     },
     "execution_count": 14,
     "metadata": {},
     "output_type": "execute_result"
    }
   ],
   "source": [
    "use_model(\"Which is the only city in asia to have hosted the olympics more than once?\")"
   ]
  },
  {
   "cell_type": "code",
   "execution_count": 15,
   "id": "f5e33a86",
   "metadata": {},
   "outputs": [
    {
     "data": {
      "text/plain": [
       "'New events introduced for the 2020 Summer Olympics include 3x3 basketball, freestyle BMX and mixed gender team events in a number of existing sports, as well as the return of madison cycling for men and an introduction of the same event for women.'"
      ]
     },
     "execution_count": 15,
     "metadata": {},
     "output_type": "execute_result"
    }
   ],
   "source": [
    "use_model(\"Which new events were introduced for the 2020 Summer Olympics?\")"
   ]
  },
  {
   "cell_type": "code",
   "execution_count": null,
   "id": "bba7ff2b",
   "metadata": {},
   "outputs": [],
   "source": []
  },
  {
   "cell_type": "code",
   "execution_count": null,
   "id": "327e4cca",
   "metadata": {},
   "outputs": [],
   "source": []
  }
 ],
 "metadata": {
  "kernelspec": {
   "display_name": "Python 3 (ipykernel)",
   "language": "python",
   "name": "python3"
  },
  "language_info": {
   "codemirror_mode": {
    "name": "ipython",
    "version": 3
   },
   "file_extension": ".py",
   "mimetype": "text/x-python",
   "name": "python",
   "nbconvert_exporter": "python",
   "pygments_lexer": "ipython3",
   "version": "3.9.15"
  }
 },
 "nbformat": 4,
 "nbformat_minor": 5
}
